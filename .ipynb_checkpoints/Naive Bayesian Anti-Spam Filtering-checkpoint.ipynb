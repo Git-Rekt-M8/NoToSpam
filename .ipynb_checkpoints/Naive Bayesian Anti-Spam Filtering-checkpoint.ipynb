{
 "cells": [
  {
   "cell_type": "heading",
   "level": 1,
   "metadata": {
    "collapsed": true
   },
   "source": [
    "Naive Bayesian Anti-Spam Filtering"
   ]
  },
  {
   "cell_type": "code",
   "execution_count": null,
   "metadata": {
    "collapsed": true
   },
   "outputs": [],
   "source": [
    "%matplotlib inline"
   ]
  }
 ],
 "metadata": {
  "anaconda-cloud": {},
  "kernelspec": {
   "display_name": "Python [default]",
   "language": "python",
   "name": "python2"
  },
  "language_info": {
   "codemirror_mode": {
    "name": "ipython",
    "version": 2
   },
   "file_extension": ".py",
   "mimetype": "text/x-python",
   "name": "python",
   "nbconvert_exporter": "python",
   "pygments_lexer": "ipython2",
   "version": "2.7.12"
  }
 },
 "nbformat": 4,
 "nbformat_minor": 0
}
