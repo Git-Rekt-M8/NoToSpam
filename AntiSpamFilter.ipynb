{
 "cells": [
  {
   "cell_type": "markdown",
   "metadata": {},
   "source": [
    "# An Evaluation of Naive Bayesian Anti-Spam Filtering\n",
    "<b>Authors:</b> John Caingles, Kingston Koa and Jolo Simeon\n",
    "<hr>\n",
    "## Description\n",
    "A tutorial for the reimplementation of the paper with the same name by Ion Androutsopoulos, John Koutsias, Konstantinos  Chandrinos, George Paliouras and Constantine Spyropoulos (2000). It uses a Naive Bayesian classifier to filter spam e-mails on a corpus found in the emails folder. The effect of attribute size, lemmatization and the use of stop-lists, among other variables, on the performance of the filter is explored.\n",
    "\n",
    "<hr>\n",
    "## Preparing the Tests\n",
    "For each test, we perform a ten-fold cross-validation. This means that out of the 10 folders, one is selected and the nine others are used as training data. This is iterated for each of the folders and the averages of the results are computed.\n",
    "\n",
    "For each test, we set the attirbute size(<attrib var>), threshold lambda(<lambda var>), and which data sets are to be used (<file directory var>)  depending on what is required. In this example, the blah blah is set to 0 because divsion by 0 is LIFE!!!!!!!!!!"
   ]
  },
  {
   "cell_type": "code",
   "execution_count": null,
   "metadata": {
    "collapsed": true
   },
   "outputs": [],
   "source": [
    "x = 0\n",
    "y = 0\n",
    "z = 0"
   ]
  },
  {
   "cell_type": "markdown",
   "metadata": {},
   "source": [
    "For each iteration, we also intialize the following variables to enable the filter to be retrained on the data set required and for the results to be recalculated."
   ]
  },
  {
   "cell_type": "code",
   "execution_count": null,
   "metadata": {
    "collapsed": true
   },
   "outputs": [],
   "source": [
    "words_dic.clear()\n",
    "attrib_dic.clear()"
   ]
  },
  {
   "cell_type": "markdown",
   "metadata": {},
   "source": [
    "## Training the Filter\n",
    "The filter is then trained using the e-mails from the 9 folders. For each message, regular expressions are used to obtain only the words without any unwanted characters and the letters are all changed to lowercase. "
   ]
  },
  {
   "cell_type": "code",
   "execution_count": null,
   "metadata": {
    "collapsed": true
   },
   "outputs": [],
   "source": [
    "def getWordsFromEmail(content):\n",
    "    content = re.sub('[^a-zA-Z]+', ' ', content)\n",
    "    content = content.lower()\n",
    "    return content.split()"
   ]
  },
  {
   "cell_type": "markdown",
   "metadata": {},
   "source": [
    "We can now use the resulting array of words to train the filter. We do this by adding it to a dictionary, named words_dic, whose key is a string, which is the word and the value is a Word object. "
   ]
  },
  {
   "cell_type": "code",
   "execution_count": null,
   "metadata": {
    "collapsed": true
   },
   "outputs": [],
   "source": [
    "def train(content, email_type):\n",
    "    allwords_array = getWordsFromEmail(content)\n",
    "    words_array = set(allwords_array)\n",
    "    for word in words_array:\n",
    "        word_obj = words_dic.get(word, None)\n",
    "        if word_obj is None:\n",
    "            word_obj = Word()\n",
    "            word_obj.setContent(word)\n",
    "\n",
    "        if email_type == 'spam':\n",
    "            word_obj.addToSpamOccur(1)\n",
    "        else:\n",
    "            word_obj.addToHamOccur(1)\n",
    "        words_dic[word] = word_obj"
   ]
  },
  {
   "cell_type": "code",
   "execution_count": null,
   "metadata": {
    "collapsed": true
   },
   "outputs": [],
   "source": [
    "class Word:\n",
    "    def __init__(self):\n",
    "        self.spamOccurence = 0\n",
    "        self.hamOccurence = 0\n",
    "        self.spamProbability = 0.0\n",
    "        self.hamProbability = 0.0\n",
    "        self.content = ''\n",
    "        self.mutualInfo = 0.0"
   ]
  },
  {
   "cell_type": "markdown",
   "metadata": {},
   "source": [
    "## Selecting Attributes\n",
    "To select attributes among all the words, only the top <i>n</i> (n being the variable attrib_size) attributes with the highest mutual information (MI) will be chosen. We added exception handling to estimate the computation in case of a very small value which may lead to a ValueError."
   ]
  },
  {
   "cell_type": "code",
   "execution_count": null,
   "metadata": {
    "collapsed": true
   },
   "outputs": [],
   "source": [
    "def computeMI():\n",
    "    total = ham_count + spam_count\n",
    "    for key, value in words_dic.iteritems():\n",
    "        spam_occur = value.getSpamOccur()\n",
    "        spam_notoccur = spam_count - spam_occur\n",
    "        ham_occur = value.getHamOccur()\n",
    "        ham_notoccur = total - value.getHamOccur()\n",
    "        try:\n",
    "            mutual_info = (spam_occur / total) * math.log((total * spam_occur) / \n",
    "                                                          ((spam_occur + ham_occur) * (spam_occur + spam_notoccur)))\n",
    "        except:\n",
    "            mutual_info = 0.0\n",
    "        try:\n",
    "            mutual_info += (spam_notoccur / total) * math.log((total * spam_notoccur) / \n",
    "                                                              ((spam_notoccur + ham_notoccur) * (spam_occur + spam_notoccur)))\n",
    "        except:\n",
    "            mutual_info += 0.0\n",
    "        try:\n",
    "            mutual_info += (ham_occur / total) * math.log((total * ham_occur) / \n",
    "                                                          ((spam_occur + ham_occur) * (ham_occur + ham_notoccur)))\n",
    "        except:\n",
    "            mutual_info += 0.0\n",
    "        try:\n",
    "            mutual_info += (ham_notoccur / total) * math.log((total * ham_notoccur) / \n",
    "                                                             ((spam_notoccur + ham_notoccur) * (ham_occur + ham_notoccur)))\n",
    "        except:\n",
    "            mutual_info += 0.0\n",
    "        words_dic[key].setMutualInfo(mutual_info)"
   ]
  },
  {
   "cell_type": "code",
   "execution_count": null,
   "metadata": {
    "collapsed": true
   },
   "outputs": [],
   "source": [
    "def getTopAttribs(n):\n",
    "    sorted_dic = sorted(words_dic.values(), key=lambda word: word.mutualInfo, reverse=True)\n",
    "    top_n = sorted_dic[:n]\n",
    "    for word in top_n:\n",
    "        attribs_dic[word.getContent()] = word\n",
    "    return attribs_dic"
   ]
  },
  {
   "cell_type": "markdown",
   "metadata": {},
   "source": [
    "## Testing using Naive Bayes\n",
    "After we have chosen the attributes, we can then proceed to classifying the e-mails (the test folder). We calculate for the probability that an e-mail is spam based on Bayes' theorem. We use the data that we collected during the training to compute for the probabilities needed."
   ]
  },
  {
   "cell_type": "code",
   "execution_count": null,
   "metadata": {
    "collapsed": true
   },
   "outputs": [],
   "source": [
    "def computeProbabilityForListOfWords(attribs_dic, word_list, email_type):\n",
    "    answer = 1.0\n",
    "    for word, word_obj in attribs_dic.iteritems():\n",
    "        isWordIncluded = False\n",
    "        for word_list_word in word_list:\n",
    "            if word == word_list_word:\n",
    "                isWordIncluded = True\n",
    "        multiplicand = 1.0\n",
    "        if email_type == 'spam':\n",
    "            multiplicand = word_obj.getSpamProbability()\n",
    "        else:\n",
    "            multiplicand = word_obj.getHamProbability()\n",
    "\n",
    "        if isWordIncluded is False:\n",
    "            multiplicand = 1.0 - multiplicand\n",
    "        answer = answer * multiplicand\n",
    "    return answer"
   ]
  },
  {
   "cell_type": "code",
   "execution_count": null,
   "metadata": {
    "collapsed": true
   },
   "outputs": [],
   "source": [
    "def computeBayesianProbability(spam_prob, ham_prob, word_spam_prob, word_ham_prob, email_type):\n",
    "\n",
    "    if email_type is 'spam':\n",
    "        return (word_spam_prob * spam_prob) / (word_spam_prob * spam_prob + word_ham_prob * ham_prob )\n",
    "    else:\n",
    "        return (word_ham_prob * ham_prob) / (word_ham_prob * ham_prob + word_spam_prob * spam_prob)"
   ]
  },
  {
   "cell_type": "code",
   "execution_count": null,
   "metadata": {
    "collapsed": true
   },
   "outputs": [],
   "source": [
    "def testEmail(test_email):\n",
    "    email_file = open(test_email, \"r\")\n",
    "    content = email_file.read()\n",
    "    word_list = getWordsFromEmail(content)\n",
    "    word_list = set(word_list)  # remove duplicates\n",
    "    word_spam_prob = bae.computeProbabilityForListOfWords(attribs_dic, word_list, \"spam\")\n",
    "    word_ham_prob = bae.computeProbabilityForListOfWords(attribs_dic, word_list, \"ham\")\n",
    "    email_type = \"spam\"\n",
    "\n",
    "    baye_probability = bae.computeBayesianProbability(SPAM_PROBABILITY, HAM_PROBABILITY, word_spam_prob, word_ham_prob,\n",
    "                                                      email_type)\n",
    "    checkSpamHam(threshold_lambda, baye_probability)"
   ]
  },
  {
   "cell_type": "markdown",
   "metadata": {},
   "source": [
    "The classification is not finished here, as how can we conclude that an e-mail is spam or ham depending on the probability? We use a threshold, lambda, which is defined as how much more times is classifying a ham e-mail as spam more costly than classifying a spam e-mail as ham."
   ]
  },
  {
   "cell_type": "code",
   "execution_count": null,
   "metadata": {
    "collapsed": true
   },
   "outputs": [],
   "source": [
    "def checkSpamHam(threshold, prob_spam):\n",
    "    t = threshold / (threshold + 1)\n",
    "    if (prob_spam > t):\n",
    "        return 'spam'\n",
    "    return 'ham'"
   ]
  },
  {
   "cell_type": "markdown",
   "metadata": {},
   "source": [
    "## Results"
   ]
  },
  {
   "cell_type": "code",
   "execution_count": 4,
   "metadata": {
    "collapsed": false
   },
   "outputs": [
    {
     "ename": "ImportError",
     "evalue": "No module named plotly",
     "output_type": "error",
     "traceback": [
      "\u001b[0;31m---------------------------------------------------------------------------\u001b[0m",
      "\u001b[0;31mImportError\u001b[0m                               Traceback (most recent call last)",
      "\u001b[0;32m<ipython-input-4-47dad6a3f465>\u001b[0m in \u001b[0;36m<module>\u001b[0;34m()\u001b[0m\n\u001b[1;32m      1\u001b[0m \u001b[1;32mimport\u001b[0m \u001b[0mmatplotlib\u001b[0m\u001b[1;33m.\u001b[0m\u001b[0mpyplot\u001b[0m \u001b[1;32mas\u001b[0m \u001b[0mplt\u001b[0m\u001b[1;33m\u001b[0m\u001b[0m\n\u001b[0;32m----> 2\u001b[0;31m \u001b[1;32mimport\u001b[0m \u001b[0mplotly\u001b[0m\u001b[1;33m\u001b[0m\u001b[0m\n\u001b[0m\u001b[1;32m      3\u001b[0m \u001b[1;32mimport\u001b[0m \u001b[0mplotly\u001b[0m\u001b[1;33m.\u001b[0m\u001b[0mplotly\u001b[0m \u001b[1;32mas\u001b[0m \u001b[0mpy\u001b[0m\u001b[1;33m\u001b[0m\u001b[0m\n\u001b[1;32m      4\u001b[0m \u001b[1;32mimport\u001b[0m \u001b[0mplotly\u001b[0m\u001b[1;33m.\u001b[0m\u001b[0mgraph_objs\u001b[0m \u001b[1;32mas\u001b[0m \u001b[0mgo\u001b[0m\u001b[1;33m\u001b[0m\u001b[0m\n\u001b[1;32m      5\u001b[0m \u001b[1;33m\u001b[0m\u001b[0m\n",
      "\u001b[0;31mImportError\u001b[0m: No module named plotly"
     ]
    }
   ],
   "source": [
    "import matplotlib.pyplot as plt\n",
    "import plotly\n",
    "import plotly.plotly as py\n",
    "import plotly.graph_objs as go\n",
    "\n",
    "trace1 = go.Scatter(\n",
    "    x=[1, 2, 3, 4, 5, \n",
    "       6, 7, 8, 9, 10,\n",
    "       11, 12, 13, 14, 15],\n",
    "    y=[10, 20, None, 15, 10,\n",
    "       5, 15, None, 20, 10,\n",
    "       10, 15, 25, 20, 10],\n",
    "    name = '<b>No</b> Gaps', # Style name/legend entry with html tags\n",
    "    connectgaps=True\n",
    ")\n",
    "trace2 = go.Scatter(\n",
    "    x=[1, 2, 3, 4, 5,\n",
    "       6, 7, 8, 9, 10,\n",
    "       11, 12, 13, 14, 15],\n",
    "    y=[5, 15, None, 10, 5,\n",
    "       0, 10, None, 15, 5,\n",
    "       5, 10, 20, 15, 5],\n",
    "    name = 'Gaps',\n",
    ")\n",
    "\n",
    "data = [trace1, trace2]\n",
    "\n",
    "fig = dict(data=data)\n",
    "py.iplot(fig, filename='simple-connectgaps')\n"
   ]
  },
  {
   "cell_type": "code",
   "execution_count": 1,
   "metadata": {
    "collapsed": true
   },
   "outputs": [],
   "source": [
    "%matplotlib inline"
   ]
  },
  {
   "cell_type": "code",
   "execution_count": 2,
   "metadata": {
    "collapsed": true
   },
   "outputs": [],
   "source": [
    "from pylab import *"
   ]
  },
  {
   "cell_type": "code",
   "execution_count": 3,
   "metadata": {
    "collapsed": true
   },
   "outputs": [],
   "source": [
    "x = linspace(0, 5, 10)\n",
    "y = x ** 2"
   ]
  },
  {
   "cell_type": "code",
   "execution_count": 4,
   "metadata": {
    "collapsed": false
   },
   "outputs": [
    {
     "data": {
      "image/png": "[encoded data removed]",
      "text/plain": [
       "<matplotlib.figure.Figure at 0x646ccc0>"
      ]
     },
     "metadata": {},
     "output_type": "display_data"
    }
   ],
   "source": [
    "figure()\n",
    "plot(x, y, 'r')\n",
    "xlabel('x')\n",
    "ylabel('y')\n",
    "title('title')\n",
    "show()"
   ]
  },
  {
   "cell_type": "code",
   "execution_count": null,
   "metadata": {
    "collapsed": true
   },
   "outputs": [],
   "source": []
  }
 ],
 "metadata": {
  "anaconda-cloud": {},
  "kernelspec": {
   "display_name": "Python [default]",
   "language": "python",
   "name": "python2"
  }
 },
 "nbformat": 4,
 "nbformat_minor": 0
}
