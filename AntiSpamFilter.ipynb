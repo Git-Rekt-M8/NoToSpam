{
 "cells": [
  {
   "cell_type": "markdown",
   "metadata": {},
   "source": [
    "# An Evaluation of Naive Bayesian Anti-Spam Filtering\n",
    "<b>Authors:</b> John Caingles, Kingston Koa and Jolo Simeon\n",
    "<hr>\n",
    "## Description\n",
    "A tutorial for the reimplementation of the paper with the same name by Ion Androutsopoulos, John Koutsias, Konstantinos V. Chandrinos, George Paliouras and Constantine D. Spyropoulos (2000). It uses a Naive Bayesian classifier to filter spam e-mails on a corpus found in the emails folder. The effect of attribute size, lemmatization and the use of stop-lists, among other variables, on the performance of the filter is explored.\n",
    "\n",
    "<hr>\n",
    "## Preparing the Tests\n",
    "For each test, we perform a ten-fold cross-validation. This means that out of the 10 folders, one is selected and the nine others are used as training data. This is iterated for each of the folders and the averages of the results are computed.\n",
    "\n",
    "For each test, we set the attirbute size(<attrib var>), threshold lambda(<lambda var>), and which data sets are to be used (<file directory var>)  depending on what is required. In this example, the blah blah is set to 0 because divsion by 0 is LIFE!!!!!!!!!!"
   ]
  },
  {
   "cell_type": "code",
   "execution_count": null,
   "metadata": {},
   "outputs": [],
   "source": [
    "x = 0\n",
    "y = 0\n",
    "z = 0"
   ]
  },
  {
   "cell_type": "markdown",
   "metadata": {},
   "source": [
    "For each iteration, we also intialize the following variables to enable the filter to be retrained on the data set required and for the results to be recalculated."
   ]
  },
  {
   "cell_type": "markdown",
   "metadata": {},
   "source": [
    "<hr>\n",
    "## Training the Filter\n",
    "The filter is then trained using the e-mails from the 9 folders. For each message, regular expressions are used to obtain only the words without any unwanted characters and the letters are all changed to lowercase. "
   ]
  },
  {
   "cell_type": "markdown",
   "metadata": {},
   "source": [
    "<hr>\n",
    "## Training the Filter\n",
    "The filter is then trained using the e-mails from the 9 folders. For each message, regular expressions are used to obtain only the words without any unwanted characters and the letters are all changed to lowercase. "
   ]
  },
  {
   "cell_type": "code",
   "execution_count": null,
   "metadata": {},
   "outputs": [],
   "source": [
    "def getWordsFromEmail(content):\n",
    "    content = re.sub('[^a-zA-Z]+', ' ', content)\n",
    "    content = content.lower()\n",
    "    return content.split()"
   ]
  },
  {
   "cell_type": "markdown",
   "metadata": {},
   "source": [
    "We can now use the resulting array of words to train the filter. We do this by adding it to a dictionary, named words_dic, whose key is a string, which is the word and the value is a Word object. "
   ]
  },
  {
   "cell_type": "code",
   "execution_count": null,
   "metadata": {},
   "outputs": [],
   "source": [
    "def train(content, email_type):\n",
    "    allwords_array = getWordsFromEmail(content)\n",
    "    words_array = set(allwords_array)\n",
    "    for word in words_array:\n",
    "        word_obj = words_dic.get(word, None)\n",
    "        if word_obj is None:\n",
    "            word_obj = Word()\n",
    "            word_obj.setContent(word)\n",
    "\n",
    "        if email_type == 'spam':\n",
    "            word_obj.addToSpamOccur(1)\n",
    "        else:\n",
    "            word_obj.addToHamOccur(1)\n",
    "        words_dic[word] = word_obj"
   ]
  },
  {
   "cell_type": "code",
   "execution_count": null,
   "metadata": {},
   "outputs": [],
   "source": [
    "class Word:\n",
    "    def __init__(self):\n",
    "        self.spamOccurence = 0\n",
    "        self.hamOccurence = 0\n",
    "        self.spamProbability = 0.0\n",
    "        self.hamProbability = 0.0\n",
    "        self.content = ''\n",
    "        self.mutualInfo = 0.0"
   ]
  },
  {
   "cell_type": "markdown",
   "metadata": {},
   "source": [
    ""
   ]
  },
  {
   "cell_type": "code",
   "execution_count": null,
   "metadata": {},
   "outputs": [],
   "source": [
    "%matplotlib inline"
   ]
  },
  {
   "cell_type": "code",
   "execution_count": null,
   "metadata": {},
   "outputs": [],
   "source": [
    "from pylab import *"
   ]
  },
  {
   "cell_type": "code",
   "execution_count": null,
   "metadata": {},
   "outputs": [],
   "source": [
    "x = linspace(0, 5, 10)\n",
    "y = x ** 2"
   ]
  },
  {
   "cell_type": "code",
   "execution_count": null,
   "metadata": {},
   "outputs": [],
   "source": [
    "figure()\n",
    "plot(x, y, 'r')\n",
    "xlabel('x')\n",
    "ylabel('y')\n",
    "title('title')\n",
    "show()"
   ]
  }
 ],
 "metadata": {
  "kernelspec": {
   "display_name": "Python 2",
   "language": "python",
   "name": "python2"
  },
  "language_info": {
   "codemirror_mode": {
    "name": "ipython",
    "version": 2.0
   },
   "file_extension": ".py",
   "mimetype": "text/x-python",
   "name": "python",
   "nbconvert_exporter": "python",
   "pygments_lexer": "ipython2",
   "version": "2.7.6"
  }
 },
 "nbformat": 4,
 "nbformat_minor": 0
}